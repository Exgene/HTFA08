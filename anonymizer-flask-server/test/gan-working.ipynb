{
 "cells": [
  {
   "cell_type": "code",
   "execution_count": 1,
   "metadata": {},
   "outputs": [],
   "source": [
    "import pandas as pd\n",
    "from ctgan import CTGAN"
   ]
  },
  {
   "cell_type": "code",
   "execution_count": 2,
   "metadata": {},
   "outputs": [],
   "source": [
    "file = \"ElectricCarData.csv\""
   ]
  },
  {
   "cell_type": "code",
   "execution_count": 3,
   "metadata": {},
   "outputs": [
    {
     "name": "stdout",
     "output_type": "stream",
     "text": [
      "      Brand                           Model     Accel  TopSpeed   Range  \\\n",
      "0  Peugeot   Model Y Long Range Performance   2.5 sec  261 km/h  315 km   \n",
      "1    Smart                              i4    3.2 sec  190 km/h  170 km   \n",
      "2   Aiways                     Enyaq iV 80X   5.7 sec  165 km/h  375 km   \n",
      "3  Hyundai                         Corsa-e   11.4 sec  200 km/h  370 km   \n",
      "4      BMW                     Enyaq iV vRS   2.8 sec  225 km/h  185 km   \n",
      "\n",
      "  Efficiency FastCharge                  RapidCharge         PowerTrain  \\\n",
      "0  207 Wh/km   710 km/h  Rapid charging not possible    All Wheel Drive   \n",
      "1  206 Wh/km   480 km/h  Rapid charging not possible   Rear Wheel Drive   \n",
      "2  165 Wh/km   900 km/h      Rapid charging possible  Front Wheel Drive   \n",
      "3  238 Wh/km   240 km/h  Rapid charging not possible    All Wheel Drive   \n",
      "4  167 Wh/km   560 km/h      Rapid charging possible   Rear Wheel Drive   \n",
      "\n",
      "     PlugType  BodyStyle Segment  Seats  PriceEuro  \n",
      "0  Type 2 CCS      Sedan       D      4      40936  \n",
      "1      Type 2  Hatchback       C      4      62900  \n",
      "2  Type 2 CCS  Hatchback       A      7      29146  \n",
      "3      Type 2     Pickup       N      6      34459  \n",
      "4  Type 2 CCS    Station       S      7      65000  \n"
     ]
    }
   ],
   "source": [
    "df = pd.read_csv(file)\n",
    "columns = df.columns.tolist()\n",
    "\n",
    "ctgan = CTGAN(epochs=10)\n",
    "ctgan.fit(df, columns)\n",
    "\n",
    "synthetic_data = ctgan.sample(1000)\n",
    "\n",
    "print(synthetic_data.head())"
   ]
  }
 ],
 "metadata": {
  "kernelspec": {
   "display_name": "aml",
   "language": "python",
   "name": "python3"
  },
  "language_info": {
   "codemirror_mode": {
    "name": "ipython",
    "version": 3
   },
   "file_extension": ".py",
   "mimetype": "text/x-python",
   "name": "python",
   "nbconvert_exporter": "python",
   "pygments_lexer": "ipython3",
   "version": "3.10.11"
  }
 },
 "nbformat": 4,
 "nbformat_minor": 2
}
