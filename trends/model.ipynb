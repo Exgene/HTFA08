{
 "cells": [
  {
   "cell_type": "code",
   "execution_count": 137,
   "metadata": {},
   "outputs": [],
   "source": [
    "import pandas as pd\n",
    "dataset = [[]] \n",
    "trendValue = \"target\"\n",
    "syntheticDataset = [[]]"
   ]
  },
  {
   "cell_type": "code",
   "execution_count": 174,
   "metadata": {},
   "outputs": [],
   "source": [
    "from sklearn.datasets import load_breast_cancer\n",
    "cancer = load_breast_cancer()\n",
    "cx = pd.DataFrame(cancer.data,columns=cancer.feature_names)\n",
    "cy = pd.DataFrame(cancer.target,columns=[\"target\"])\n",
    "db = pd.concat([cx,cy],axis=1)\n",
    "dataset = db\n",
    "\n",
    "from ctgan import CTGAN\n",
    "discrete_columns = dataset.columns.to_list()\n",
    "discrete_columns = discrete_columns[:10]\n",
    "\n",
    "ctgan = CTGAN(epochs=15)\n",
    "ctgan.fit(dataset, discrete_columns)\n",
    "syntheticDataset = ctgan.sample(dataset.shape[0])"
   ]
  },
  {
   "cell_type": "code",
   "execution_count": 175,
   "metadata": {},
   "outputs": [],
   "source": [
    "import numpy as np\n",
    "import matplotlib.pyplot as plt\n",
    "from sklearn.model_selection import train_test_split"
   ]
  },
  {
   "cell_type": "code",
   "execution_count": 176,
   "metadata": {},
   "outputs": [],
   "source": [
    "import tensorflow as tf"
   ]
  },
  {
   "cell_type": "code",
   "execution_count": 177,
   "metadata": {},
   "outputs": [],
   "source": [
    "from sklearn.preprocessing import LabelEncoder\n",
    "le = LabelEncoder()"
   ]
  },
  {
   "cell_type": "code",
   "execution_count": 178,
   "metadata": {},
   "outputs": [],
   "source": [
    "def encode(Y):\n",
    "    Y = le.fit_transform(Y)"
   ]
  },
  {
   "cell_type": "code",
   "execution_count": 179,
   "metadata": {},
   "outputs": [
    {
     "name": "stderr",
     "output_type": "stream",
     "text": [
      "C:\\Users\\cocka\\AppData\\Local\\Temp\\ipykernel_76796\\3222658581.py:8: FutureWarning: iteritems is deprecated and will be removed in a future version. Use .items instead.\n",
      "  for i, value in checkarrSynth.iteritems():\n"
     ]
    }
   ],
   "source": [
    "X_synth = syntheticDataset.drop([trendValue],axis=1)\n",
    "Y_synth = syntheticDataset[trendValue]\n",
    "if isinstance(Y_synth[0],str):\n",
    "    encode(Y_synth)\n",
    "\n",
    "# for i in range(0,len(X[0])):\n",
    "checkarrSynth = X_synth.iloc[1,:]  # Assuming you want the first row, change to 0 instead of 1\n",
    "for i, value in checkarrSynth.iteritems():\n",
    "    if isinstance(value, str):\n",
    "        # Encode the entire column\n",
    "        X_synth[i] = X_synth[i].astype('category').cat.codes"
   ]
  },
  {
   "cell_type": "code",
   "execution_count": 180,
   "metadata": {},
   "outputs": [
    {
     "name": "stderr",
     "output_type": "stream",
     "text": [
      "C:\\Users\\cocka\\AppData\\Local\\Temp\\ipykernel_76796\\3557777663.py:9: FutureWarning: iteritems is deprecated and will be removed in a future version. Use .items instead.\n",
      "  for i, value in checkarr.iteritems():\n"
     ]
    }
   ],
   "source": [
    "X = dataset.drop([trendValue],axis=1)\n",
    "Y = dataset[trendValue]\n",
    "\n",
    "if isinstance(Y[0],str):\n",
    "    encode(Y)\n",
    "\n",
    "# for i in range(0,len(X[0])):\n",
    "checkarr = X.iloc[1,:]  # Assuming you want the first row, change to 0 instead of 1\n",
    "for i, value in checkarr.iteritems():\n",
    "    if isinstance(value, str):\n",
    "        # Encode the entire column\n",
    "        X[i] = X[i].astype('category').cat.codes\n"
   ]
  },
  {
   "cell_type": "code",
   "execution_count": 181,
   "metadata": {},
   "outputs": [],
   "source": [
    "from sklearn.preprocessing import StandardScaler\n",
    "scaler = StandardScaler()\n",
    "X = scaler.fit_transform(X)\n",
    "X_synth = scaler.fit_transform(X_synth)"
   ]
  },
  {
   "cell_type": "code",
   "execution_count": 182,
   "metadata": {},
   "outputs": [
    {
     "data": {
      "text/plain": [
       "(30,)"
      ]
     },
     "execution_count": 182,
     "metadata": {},
     "output_type": "execute_result"
    }
   ],
   "source": [
    "# importing tensorflow and Keras\n",
    "import tensorflow as tf\n",
    "\n",
    "tf.random.set_seed(3)\n",
    "from tensorflow import keras\n",
    "X[0].shape"
   ]
  },
  {
   "cell_type": "code",
   "execution_count": 183,
   "metadata": {},
   "outputs": [],
   "source": [
    "model = keras.Sequential(\n",
    "    [\n",
    "        keras.layers.Flatten(input_shape=X[0].shape),\n",
    "        keras.layers.Dense(20, activation=\"relu\"),\n",
    "        keras.layers.Dense(2, activation=\"sigmoid\"),\n",
    "    ]\n",
    ")"
   ]
  },
  {
   "cell_type": "code",
   "execution_count": 184,
   "metadata": {},
   "outputs": [],
   "source": [
    "# def general_loss(y_true, y_pred):\n",
    "#     # Example of a simple mean squared error loss function\n",
    "#     y_true = tf.cast(y_true,tf.float64)\n",
    "#     y_pred = tf.cast(y_pred,tf.float64)\n",
    "#     loss = tf.reduce_mean(tf.square(y_true - y_pred))\n",
    "#     return loss\n",
    "\n",
    "model.compile(\n",
    "    optimizer=\"adam\", loss=\"sparse_categorical_crossentropy\", metrics=[\"accuracy\"]\n",
    ")\n"
   ]
  },
  {
   "cell_type": "code",
   "execution_count": 185,
   "metadata": {},
   "outputs": [
    {
     "name": "stdout",
     "output_type": "stream",
     "text": [
      "Epoch 1/10\n",
      "18/18 [==============================] - 1s 2ms/step - loss: 0.8767 - accuracy: 0.4429\n",
      "Epoch 2/10\n",
      "18/18 [==============================] - 0s 2ms/step - loss: 0.4663 - accuracy: 0.8084\n",
      "Epoch 3/10\n",
      "18/18 [==============================] - 0s 2ms/step - loss: 0.3101 - accuracy: 0.9227\n",
      "Epoch 4/10\n",
      "18/18 [==============================] - 0s 2ms/step - loss: 0.2429 - accuracy: 0.9385\n",
      "Epoch 5/10\n",
      "18/18 [==============================] - 0s 2ms/step - loss: 0.2041 - accuracy: 0.9455\n",
      "Epoch 6/10\n",
      "18/18 [==============================] - 0s 2ms/step - loss: 0.1781 - accuracy: 0.9525\n",
      "Epoch 7/10\n",
      "18/18 [==============================] - 0s 2ms/step - loss: 0.1592 - accuracy: 0.9578\n",
      "Epoch 8/10\n",
      "18/18 [==============================] - 0s 2ms/step - loss: 0.1446 - accuracy: 0.9578\n",
      "Epoch 9/10\n",
      "18/18 [==============================] - 0s 2ms/step - loss: 0.1328 - accuracy: 0.9649\n",
      "Epoch 10/10\n",
      "18/18 [==============================] - 0s 2ms/step - loss: 0.1230 - accuracy: 0.9649\n",
      "Epoch 1/50\n",
      "18/18 [==============================] - 0s 2ms/step - loss: 0.8539 - accuracy: 0.5800\n",
      "Epoch 2/50\n",
      "18/18 [==============================] - 0s 5ms/step - loss: 0.7681 - accuracy: 0.6239\n",
      "Epoch 3/50\n",
      "18/18 [==============================] - 0s 2ms/step - loss: 0.7050 - accuracy: 0.6626\n",
      "Epoch 4/50\n",
      "18/18 [==============================] - 0s 1ms/step - loss: 0.6700 - accuracy: 0.6784\n",
      "Epoch 5/50\n",
      "18/18 [==============================] - 0s 1ms/step - loss: 0.6431 - accuracy: 0.6889\n",
      "Epoch 6/50\n",
      "18/18 [==============================] - 0s 2ms/step - loss: 0.6223 - accuracy: 0.6889\n",
      "Epoch 7/50\n",
      "18/18 [==============================] - 0s 2ms/step - loss: 0.6063 - accuracy: 0.6942\n",
      "Epoch 8/50\n",
      "18/18 [==============================] - 0s 2ms/step - loss: 0.5916 - accuracy: 0.7118\n",
      "Epoch 9/50\n",
      "18/18 [==============================] - 0s 2ms/step - loss: 0.5806 - accuracy: 0.7170\n",
      "Epoch 10/50\n",
      "18/18 [==============================] - 0s 2ms/step - loss: 0.5705 - accuracy: 0.7241\n",
      "Epoch 11/50\n",
      "18/18 [==============================] - 0s 1ms/step - loss: 0.5620 - accuracy: 0.7293\n",
      "Epoch 12/50\n",
      "18/18 [==============================] - 0s 1ms/step - loss: 0.5538 - accuracy: 0.7311\n",
      "Epoch 13/50\n",
      "18/18 [==============================] - 0s 1ms/step - loss: 0.5468 - accuracy: 0.7364\n",
      "Epoch 14/50\n",
      "18/18 [==============================] - 0s 2ms/step - loss: 0.5405 - accuracy: 0.7329\n",
      "Epoch 15/50\n",
      "18/18 [==============================] - 0s 1ms/step - loss: 0.5347 - accuracy: 0.7329\n",
      "Epoch 16/50\n",
      "18/18 [==============================] - 0s 2ms/step - loss: 0.5300 - accuracy: 0.7329\n",
      "Epoch 17/50\n",
      "18/18 [==============================] - 0s 2ms/step - loss: 0.5245 - accuracy: 0.7346\n",
      "Epoch 18/50\n",
      "18/18 [==============================] - 0s 2ms/step - loss: 0.5196 - accuracy: 0.7329\n",
      "Epoch 19/50\n",
      "18/18 [==============================] - 0s 2ms/step - loss: 0.5154 - accuracy: 0.7364\n",
      "Epoch 20/50\n",
      "18/18 [==============================] - 0s 2ms/step - loss: 0.5122 - accuracy: 0.7417\n",
      "Epoch 21/50\n",
      "18/18 [==============================] - 0s 1ms/step - loss: 0.5074 - accuracy: 0.7417\n",
      "Epoch 22/50\n",
      "18/18 [==============================] - 0s 2ms/step - loss: 0.5036 - accuracy: 0.7381\n",
      "Epoch 23/50\n",
      "18/18 [==============================] - 0s 1ms/step - loss: 0.4997 - accuracy: 0.7469\n",
      "Epoch 24/50\n",
      "18/18 [==============================] - 0s 2ms/step - loss: 0.4961 - accuracy: 0.7504\n",
      "Epoch 25/50\n",
      "18/18 [==============================] - 0s 1ms/step - loss: 0.4926 - accuracy: 0.7575\n",
      "Epoch 26/50\n",
      "18/18 [==============================] - 0s 1ms/step - loss: 0.4887 - accuracy: 0.7627\n",
      "Epoch 27/50\n",
      "18/18 [==============================] - 0s 2ms/step - loss: 0.4853 - accuracy: 0.7663\n",
      "Epoch 28/50\n",
      "18/18 [==============================] - 0s 1ms/step - loss: 0.4819 - accuracy: 0.7715\n",
      "Epoch 29/50\n",
      "18/18 [==============================] - 0s 2ms/step - loss: 0.4783 - accuracy: 0.7698\n",
      "Epoch 30/50\n",
      "18/18 [==============================] - 0s 3ms/step - loss: 0.4749 - accuracy: 0.7715\n",
      "Epoch 31/50\n",
      "18/18 [==============================] - 0s 2ms/step - loss: 0.4708 - accuracy: 0.7750\n",
      "Epoch 32/50\n",
      "18/18 [==============================] - 0s 2ms/step - loss: 0.4675 - accuracy: 0.7786\n",
      "Epoch 33/50\n",
      "18/18 [==============================] - 0s 2ms/step - loss: 0.4639 - accuracy: 0.7838\n",
      "Epoch 34/50\n",
      "18/18 [==============================] - 0s 2ms/step - loss: 0.4606 - accuracy: 0.7786\n",
      "Epoch 35/50\n",
      "18/18 [==============================] - 0s 2ms/step - loss: 0.4572 - accuracy: 0.7803\n",
      "Epoch 36/50\n",
      "18/18 [==============================] - 0s 1ms/step - loss: 0.4539 - accuracy: 0.7838\n",
      "Epoch 37/50\n",
      "18/18 [==============================] - 0s 2ms/step - loss: 0.4504 - accuracy: 0.7856\n",
      "Epoch 38/50\n",
      "18/18 [==============================] - 0s 1ms/step - loss: 0.4470 - accuracy: 0.7873\n",
      "Epoch 39/50\n",
      "18/18 [==============================] - 0s 3ms/step - loss: 0.4437 - accuracy: 0.7891\n",
      "Epoch 40/50\n",
      "18/18 [==============================] - 0s 2ms/step - loss: 0.4410 - accuracy: 0.7961\n",
      "Epoch 41/50\n",
      "18/18 [==============================] - 0s 2ms/step - loss: 0.4372 - accuracy: 0.7944\n",
      "Epoch 42/50\n",
      "18/18 [==============================] - 0s 2ms/step - loss: 0.4350 - accuracy: 0.7909\n",
      "Epoch 43/50\n",
      "18/18 [==============================] - 0s 1ms/step - loss: 0.4303 - accuracy: 0.8049\n",
      "Epoch 44/50\n",
      "18/18 [==============================] - 0s 2ms/step - loss: 0.4276 - accuracy: 0.8172\n",
      "Epoch 45/50\n",
      "18/18 [==============================] - 0s 2ms/step - loss: 0.4243 - accuracy: 0.8137\n",
      "Epoch 46/50\n",
      "18/18 [==============================] - 0s 1ms/step - loss: 0.4220 - accuracy: 0.8155\n",
      "Epoch 47/50\n",
      "18/18 [==============================] - 0s 2ms/step - loss: 0.4174 - accuracy: 0.8207\n",
      "Epoch 48/50\n",
      "18/18 [==============================] - 0s 1ms/step - loss: 0.4147 - accuracy: 0.8225\n",
      "Epoch 49/50\n",
      "18/18 [==============================] - 0s 2ms/step - loss: 0.4118 - accuracy: 0.8225\n",
      "Epoch 50/50\n",
      "18/18 [==============================] - 0s 1ms/step - loss: 0.4089 - accuracy: 0.8243\n"
     ]
    }
   ],
   "source": [
    "history = model.fit(X,Y, epochs=10)\n",
    "history_synth = model.fit(X_synth,Y_synth,epochs=50)"
   ]
  },
  {
   "cell_type": "code",
   "execution_count": 190,
   "metadata": {},
   "outputs": [],
   "source": [
    "data_loss = history.history['accuracy'][-1] - history_synth.history['accuracy'][-1]"
   ]
  },
  {
   "cell_type": "code",
   "execution_count": 191,
   "metadata": {},
   "outputs": [
    {
     "data": {
      "text/plain": [
       "0.14059752225875854"
      ]
     },
     "execution_count": 191,
     "metadata": {},
     "output_type": "execute_result"
    }
   ],
   "source": [
    "data_loss"
   ]
  },
  {
   "cell_type": "code",
   "execution_count": null,
   "metadata": {},
   "outputs": [],
   "source": []
  }
 ],
 "metadata": {
  "kernelspec": {
   "display_name": "Python 3",
   "language": "python",
   "name": "python3"
  },
  "language_info": {
   "codemirror_mode": {
    "name": "ipython",
    "version": 3
   },
   "file_extension": ".py",
   "mimetype": "text/x-python",
   "name": "python",
   "nbconvert_exporter": "python",
   "pygments_lexer": "ipython3",
   "version": "3.10.12"
  }
 },
 "nbformat": 4,
 "nbformat_minor": 2
}
