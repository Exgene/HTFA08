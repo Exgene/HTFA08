{
 "cells": [
  {
   "cell_type": "code",
   "execution_count": 1,
   "metadata": {},
   "outputs": [],
   "source": [
    "import numpy as np\n",
    "import pandas as pd\n",
    "from sklearn.model_selection import train_test_split\n",
    "from sklearn.preprocessing import LabelEncoder\n",
    "from sklearn.preprocessing import StandardScaler\n",
    "import tensorflow as tf\n",
    "from tensorflow import keras"
   ]
  },
  {
   "cell_type": "code",
   "execution_count": 2,
   "metadata": {},
   "outputs": [],
   "source": [
    "def encode(val):\n",
    "    le = LabelEncoder()\n",
    "    return le.fit_transform(val)"
   ]
  },
  {
   "cell_type": "code",
   "execution_count": 3,
   "metadata": {},
   "outputs": [],
   "source": [
    "df1 = pd.read_csv(\"./BreastCancer.csv\")\n",
    "df2 = pd.read_csv(\"./AnonymizedBreastCancer.csv\")\n",
    "target = \"diagnosis\""
   ]
  },
  {
   "cell_type": "code",
   "execution_count": 4,
   "metadata": {},
   "outputs": [
    {
     "name": "stderr",
     "output_type": "stream",
     "text": [
      "/var/folders/6s/d0kj1bc14152_w6d8xd7q99h0000gn/T/ipykernel_99502/3288088103.py:10: FutureWarning: iteritems is deprecated and will be removed in a future version. Use .items instead.\n",
      "  for i, value in checkarr.iteritems():\n"
     ]
    }
   ],
   "source": [
    "# We need to split original dataset into train and test\n",
    "X = df1.drop([target], axis=1)\n",
    "Y = df1[target]\n",
    "\n",
    "# Preprocess the data\n",
    "if isinstance(Y[0], str):\n",
    "    Y = encode(Y)\n",
    "\n",
    "checkarr = X.iloc[1, :]\n",
    "for i, value in checkarr.iteritems():\n",
    "    if isinstance(value, str):\n",
    "        X[i] = X[i].astype(\"category\").cat.codes\n",
    "\n",
    "scaler1 = StandardScaler()\n",
    "X = scaler1.fit_transform(X)\n",
    "\n",
    "Y = Y.reshape(-1, 1)"
   ]
  },
  {
   "cell_type": "code",
   "execution_count": 5,
   "metadata": {},
   "outputs": [
    {
     "data": {
      "text/plain": [
       "array([[-1.37554634e-01,  6.54023905e-01, -3.07561846e-03,\n",
       "        -1.81844018e-01,  2.14093963e-01],\n",
       "       [-3.79409266e-01,  5.02394616e-01, -4.44710033e-01,\n",
       "        -4.40206104e-01, -1.55719024e+00],\n",
       "       [ 1.65694702e+00,  8.88118246e-01,  1.54868280e+00,\n",
       "         1.74977966e+00, -8.60241642e-01],\n",
       "       [ 1.52258334e+00,  6.54023905e-01,  1.44517474e+00,\n",
       "         1.73728331e+00, -2.87313376e-01],\n",
       "       [-1.47014380e+00,  6.61278895e-02, -1.48280968e+00,\n",
       "        -1.27902376e+00,  2.38787358e-02],\n",
       "       [-8.09373057e-01, -1.07508202e+00, -8.42784803e-01,\n",
       "        -8.14159451e-01, -3.69486355e-01],\n",
       "       [-6.06334600e-01,  1.10359145e+00, -5.95228012e-01,\n",
       "        -6.40147743e-01,  7.69522428e-01],\n",
       "       [ 1.30162972e+00,  1.36162725e+00,  1.37185652e+00,\n",
       "         1.24992556e+00, -8.57959059e-01],\n",
       "       [ 3.90942526e-01,  9.43981668e-01,  2.67770487e-01,\n",
       "         2.93329784e-01, -1.52371236e+00],\n",
       "       [ 9.79156879e-01, -2.47698791e+00,  1.13465054e+00,\n",
       "         9.28144488e-01,  1.24125619e+00],\n",
       "       [-8.57146812e-01, -2.63732318e-01, -8.00519010e-01,\n",
       "        -8.22594489e-01,  6.70610510e-01],\n",
       "       [-3.52536529e-01, -2.32801878e+00, -3.70097969e-01,\n",
       "        -4.52077639e-01,  2.05537737e+00],\n",
       "       [-4.60027477e-01, -2.74372970e-01, -4.53335705e-01,\n",
       "        -5.28930207e-01,  1.04343236e+00],\n",
       "       [-3.90212649e-02,  4.89093801e-01,  3.96214587e-02,\n",
       "        -1.84655697e-01,  2.52137009e-01],\n",
       "       [-4.60027477e-01,  5.63578364e-01, -4.77487587e-01,\n",
       "        -5.38614880e-01, -3.76334103e-01],\n",
       "       [ 1.66590460e+00, -1.42356337e+00,  1.66512938e+00,\n",
       "         1.85287457e+00, -1.35902055e-01],\n",
       "       [ 1.87904069e-01, -1.44484468e+00,  2.59144815e-01,\n",
       "         1.53995454e-03,  3.96700582e-01],\n",
       "       [ 1.33148832e+00,  1.35896709e+00,  1.54868280e+00,\n",
       "         1.30928324e+00, -3.56551719e-01],\n",
       "       [-7.01882109e-01,  5.60918201e-01, -7.20731542e-01,\n",
       "        -7.42930242e-01, -1.09306508e+00],\n",
       "       [-2.71918318e-01, -1.03783974e+00, -2.61414500e-01,\n",
       "        -3.74287845e-01, -1.05467619e-01]])"
      ]
     },
     "execution_count": 5,
     "metadata": {},
     "output_type": "execute_result"
    }
   ],
   "source": [
    "x_train, x_test, y_train, y_test = train_test_split(\n",
    "    X, Y, test_size=0.2, random_state=42\n",
    ")\n",
    "x_test"
   ]
  },
  {
   "cell_type": "code",
   "execution_count": 6,
   "metadata": {},
   "outputs": [
    {
     "name": "stderr",
     "output_type": "stream",
     "text": [
      "/var/folders/6s/d0kj1bc14152_w6d8xd7q99h0000gn/T/ipykernel_99502/3232657280.py:8: FutureWarning: iteritems is deprecated and will be removed in a future version. Use .items instead.\n",
      "  for i, value in checkarr.iteritems():\n"
     ]
    }
   ],
   "source": [
    "X_synth = df2.drop([target], axis=1)\n",
    "Y_synth = df2[target]\n",
    "\n",
    "if isinstance(Y_synth[0], str):\n",
    "    encode(Y_synth)\n",
    "\n",
    "checkarr = X_synth.iloc[1, :]\n",
    "for i, value in checkarr.iteritems():\n",
    "    if isinstance(value, str):\n",
    "        X_synth[i] = X_synth[i].astype(\"category\").cat.codes\n",
    "\n",
    "\n",
    "scaler2 = StandardScaler()\n",
    "X = scaler2.fit_transform(X)\n",
    "X_synth = scaler2.fit_transform(X_synth)"
   ]
  },
  {
   "cell_type": "code",
   "execution_count": 7,
   "metadata": {},
   "outputs": [
    {
     "name": "stdout",
     "output_type": "stream",
     "text": [
      "Epoch 1/10\n"
     ]
    },
    {
     "name": "stderr",
     "output_type": "stream",
     "text": [
      "2024-02-21 06:45:58.142692: W tensorflow/tsl/platform/profile_utils/cpu_utils.cc:128] Failed to get CPU frequency: 0 Hz\n"
     ]
    },
    {
     "name": "stdout",
     "output_type": "stream",
     "text": [
      "3/3 [==============================] - 0s 3ms/step - loss: 0.6064 - accuracy: 0.7089\n",
      "Epoch 2/10\n",
      "3/3 [==============================] - 0s 1ms/step - loss: 0.5895 - accuracy: 0.7089\n",
      "Epoch 3/10\n",
      "3/3 [==============================] - 0s 1ms/step - loss: 0.5739 - accuracy: 0.7342\n",
      "Epoch 4/10\n",
      "3/3 [==============================] - 0s 1ms/step - loss: 0.5584 - accuracy: 0.7722\n",
      "Epoch 5/10\n",
      "3/3 [==============================] - 0s 1ms/step - loss: 0.5430 - accuracy: 0.7722\n",
      "Epoch 6/10\n",
      "3/3 [==============================] - 0s 1ms/step - loss: 0.5294 - accuracy: 0.7722\n",
      "Epoch 7/10\n",
      "3/3 [==============================] - 0s 1ms/step - loss: 0.5147 - accuracy: 0.7848\n",
      "Epoch 8/10\n",
      "3/3 [==============================] - 0s 1ms/step - loss: 0.5016 - accuracy: 0.7848\n",
      "Epoch 9/10\n",
      "3/3 [==============================] - 0s 977us/step - loss: 0.4890 - accuracy: 0.7848\n",
      "Epoch 10/10\n",
      "3/3 [==============================] - 0s 1ms/step - loss: 0.4765 - accuracy: 0.7975\n"
     ]
    }
   ],
   "source": [
    "tf.random.set_seed(3)\n",
    "\n",
    "model1 = keras.Sequential(\n",
    "    [\n",
    "        keras.layers.Flatten(input_shape=x_train[0].shape),\n",
    "        keras.layers.Dense(20, activation=\"relu\"),\n",
    "        keras.layers.Dense(2, activation=\"sigmoid\"),\n",
    "    ]\n",
    ")\n",
    "\n",
    "model1.compile(\n",
    "    optimizer=\"adam\",\n",
    "    loss=\"sparse_categorical_crossentropy\",\n",
    "    metrics=[\"accuracy\"],\n",
    ")\n",
    "\n",
    "history = model1.fit(x_train, y_train, epochs=10)"
   ]
  },
  {
   "cell_type": "code",
   "execution_count": 8,
   "metadata": {},
   "outputs": [
    {
     "name": "stdout",
     "output_type": "stream",
     "text": [
      "Epoch 1/10\n"
     ]
    },
    {
     "name": "stderr",
     "output_type": "stream",
     "text": [
      "/var/folders/6s/d0kj1bc14152_w6d8xd7q99h0000gn/T/ipykernel_99502/960770443.py:14: FutureWarning: iteritems is deprecated and will be removed in a future version. Use .items instead.\n",
      "  for i, value in checkarr.iteritems():\n"
     ]
    },
    {
     "name": "stdout",
     "output_type": "stream",
     "text": [
      "3/3 [==============================] - 0s 2ms/step - loss: 0.6506 - accuracy: 0.4937\n",
      "Epoch 2/10\n",
      "3/3 [==============================] - 0s 1ms/step - loss: 0.6346 - accuracy: 0.5316\n",
      "Epoch 3/10\n",
      "3/3 [==============================] - 0s 1ms/step - loss: 0.6194 - accuracy: 0.5823\n",
      "Epoch 4/10\n",
      "3/3 [==============================] - 0s 1ms/step - loss: 0.6054 - accuracy: 0.6076\n",
      "Epoch 5/10\n",
      "3/3 [==============================] - 0s 1ms/step - loss: 0.5912 - accuracy: 0.6329\n",
      "Epoch 6/10\n",
      "3/3 [==============================] - 0s 1ms/step - loss: 0.5779 - accuracy: 0.6456\n",
      "Epoch 7/10\n",
      "3/3 [==============================] - 0s 1ms/step - loss: 0.5646 - accuracy: 0.6835\n",
      "Epoch 8/10\n",
      "3/3 [==============================] - 0s 1ms/step - loss: 0.5520 - accuracy: 0.6962\n",
      "Epoch 9/10\n",
      "3/3 [==============================] - 0s 1ms/step - loss: 0.5396 - accuracy: 0.7215\n",
      "Epoch 10/10\n",
      "3/3 [==============================] - 0s 1ms/step - loss: 0.5275 - accuracy: 0.7468\n",
      "Epoch 1/10\n",
      "32/32 [==============================] - 0s 599us/step - loss: 0.7534 - accuracy: 0.5080\n",
      "Epoch 2/10\n",
      "32/32 [==============================] - 0s 521us/step - loss: 0.7246 - accuracy: 0.5170\n",
      "Epoch 3/10\n",
      "32/32 [==============================] - 0s 513us/step - loss: 0.7130 - accuracy: 0.5220\n",
      "Epoch 4/10\n",
      "32/32 [==============================] - 0s 484us/step - loss: 0.7062 - accuracy: 0.5240\n",
      "Epoch 5/10\n",
      "32/32 [==============================] - 0s 479us/step - loss: 0.7010 - accuracy: 0.5300\n",
      "Epoch 6/10\n",
      "32/32 [==============================] - 0s 472us/step - loss: 0.6978 - accuracy: 0.5220\n",
      "Epoch 7/10\n",
      "32/32 [==============================] - 0s 472us/step - loss: 0.6956 - accuracy: 0.5330\n",
      "Epoch 8/10\n",
      "32/32 [==============================] - 0s 558us/step - loss: 0.6935 - accuracy: 0.5360\n",
      "Epoch 9/10\n",
      "32/32 [==============================] - 0s 2ms/step - loss: 0.6919 - accuracy: 0.5280\n",
      "Epoch 10/10\n",
      "32/32 [==============================] - 0s 586us/step - loss: 0.6906 - accuracy: 0.5340\n",
      "1/1 [==============================] - 0s 95ms/step - loss: 0.6789 - accuracy: 0.6500\n",
      "32/32 [==============================] - 0s 484us/step - loss: 0.6889 - accuracy: 0.5270\n"
     ]
    },
    {
     "data": {
      "text/plain": [
       "{'original': {'accuracy': 0.6788539886474609, 'loss': 0.6499999761581421},\n",
       " 'anonymous': {'accuracy': 0.6889386177062988, 'loss': 0.5270000100135803}}"
      ]
     },
     "execution_count": 8,
     "metadata": {},
     "output_type": "execute_result"
    }
   ],
   "source": [
    "x_train, x_test, y_train, y_test = train_test_split(\n",
    "    X, Y, test_size=0.2, random_state=42\n",
    ")\n",
    "\n",
    "# ************************************************************ #\n",
    "\n",
    "X_synth = df2.drop([target], axis=1)\n",
    "Y_synth = df2[target]\n",
    "\n",
    "if isinstance(Y_synth[0], str):\n",
    "    Y_synth = encode(Y_synth)\n",
    "\n",
    "checkarr = X_synth.iloc[1, :]\n",
    "for i, value in checkarr.iteritems():\n",
    "    if isinstance(value, str):\n",
    "        X_synth[i] = X_synth[i].astype(\"category\").cat.codes\n",
    "\n",
    "scaler2 = StandardScaler()\n",
    "X = scaler2.fit_transform(X)\n",
    "X_synth = scaler2.fit_transform(X_synth)\n",
    "\n",
    "# ************************************************************ #\n",
    "\n",
    "tf.random.set_seed(3)\n",
    "\n",
    "model1 = keras.Sequential(\n",
    "    [\n",
    "        keras.layers.Flatten(input_shape=X[0].shape),\n",
    "        keras.layers.Dense(20, activation=\"relu\"),\n",
    "        keras.layers.Dense(2, activation=\"sigmoid\"),\n",
    "    ]\n",
    ")\n",
    "\n",
    "model1.compile(\n",
    "    optimizer=\"adam\",\n",
    "    loss=\"sparse_categorical_crossentropy\",\n",
    "    metrics=[\"accuracy\"],\n",
    ")\n",
    "\n",
    "history = model1.fit(x_train, y_train, epochs=10)\n",
    "\n",
    "# ************************************************************ #\n",
    "model2 = keras.Sequential(\n",
    "    [\n",
    "        keras.layers.Flatten(input_shape=X[0].shape),\n",
    "        keras.layers.Dense(20, activation=\"relu\"),\n",
    "        keras.layers.Dense(2, activation=\"sigmoid\"),\n",
    "    ]\n",
    ")\n",
    "\n",
    "model2.compile(\n",
    "    optimizer=\"adam\",\n",
    "    loss=\"sparse_categorical_crossentropy\",\n",
    "    metrics=[\"accuracy\"],\n",
    ")\n",
    "\n",
    "history_synth = model2.fit(X_synth, Y_synth, epochs=10)\n",
    "\n",
    "# ************************************************************ #\n",
    "\n",
    "acc1, loss1 = model1.evaluate(x_test, y_test)\n",
    "acc2, loss2 = model2.evaluate(X_synth, Y_synth)\n",
    "\n",
    "# ************************************************************ #\n",
    "\n",
    "results = {\n",
    "    \"original\": {\"accuracy\": acc1, \"loss\": loss1},\n",
    "    \"anonymous\": {\"accuracy\": acc2, \"loss\": loss2},\n",
    "}\n",
    "\n",
    "results"
   ]
  },
  {
   "cell_type": "code",
   "execution_count": null,
   "metadata": {},
   "outputs": [],
   "source": []
  }
 ],
 "metadata": {
  "kernelspec": {
   "display_name": "Python 3",
   "language": "python",
   "name": "python3"
  },
  "language_info": {
   "codemirror_mode": {
    "name": "ipython",
    "version": 3
   },
   "file_extension": ".py",
   "mimetype": "text/x-python",
   "name": "python",
   "nbconvert_exporter": "python",
   "pygments_lexer": "ipython3",
   "version": "3.10.11"
  }
 },
 "nbformat": 4,
 "nbformat_minor": 2
}
