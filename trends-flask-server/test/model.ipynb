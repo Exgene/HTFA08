{
 "cells": [
  {
   "cell_type": "code",
   "execution_count": 18,
   "metadata": {},
   "outputs": [],
   "source": [
    "import numpy as np\n",
    "import pandas as pd\n",
    "from sklearn.model_selection import train_test_split\n",
    "from sklearn.preprocessing import LabelEncoder\n",
    "from sklearn.preprocessing import StandardScaler\n",
    "import tensorflow as tf\n",
    "from tensorflow import keras"
   ]
  },
  {
   "cell_type": "code",
   "execution_count": 19,
   "metadata": {},
   "outputs": [],
   "source": [
    "def encode(Y):\n",
    "    le = LabelEncoder()\n",
    "    Y = le.fit_transform(Y)"
   ]
  },
  {
   "cell_type": "code",
   "execution_count": 20,
   "metadata": {},
   "outputs": [],
   "source": [
    "df1 = pd.read_csv(\"./BreastCancer.csv\")\n",
    "df2 = pd.read_csv(\"./AnonymizedBreastCancer.csv\")\n",
    "target = \"diagnosis\""
   ]
  },
  {
   "cell_type": "code",
   "execution_count": 21,
   "metadata": {},
   "outputs": [
    {
     "name": "stderr",
     "output_type": "stream",
     "text": [
      "/var/folders/6s/d0kj1bc14152_w6d8xd7q99h0000gn/T/ipykernel_98677/2239880681.py:10: FutureWarning: iteritems is deprecated and will be removed in a future version. Use .items instead.\n",
      "  for i, value in checkarr.iteritems():\n"
     ]
    }
   ],
   "source": [
    "# We need to split original dataset into train and test\n",
    "X = df1.drop([target], axis=1)\n",
    "Y = df1[target]\n",
    "\n",
    "# Preprocess the data\n",
    "if isinstance(Y[0], str):\n",
    "    encode(Y)\n",
    "\n",
    "checkarr = X.iloc[1, :]\n",
    "for i, value in checkarr.iteritems():\n",
    "    if isinstance(value, str):\n",
    "        X[i] = X[i].astype(\"category\").cat.codes\n",
    "\n",
    "scaler1 = StandardScaler()\n",
    "X = scaler1.fit_transform(X)"
   ]
  },
  {
   "cell_type": "code",
   "execution_count": 22,
   "metadata": {},
   "outputs": [],
   "source": [
    "x_train, x_test, y_train, y_test = train_test_split(\n",
    "    X, Y, test_size=0.2, random_state=42\n",
    ")"
   ]
  },
  {
   "cell_type": "code",
   "execution_count": 23,
   "metadata": {},
   "outputs": [
    {
     "name": "stderr",
     "output_type": "stream",
     "text": [
      "/var/folders/6s/d0kj1bc14152_w6d8xd7q99h0000gn/T/ipykernel_98677/3314867525.py:8: FutureWarning: iteritems is deprecated and will be removed in a future version. Use .items instead.\n",
      "  for i, value in checkarr.iteritems():\n"
     ]
    }
   ],
   "source": [
    "X_synth = df2.drop([target], axis=1)\n",
    "Y_synth = df2[target]\n",
    "\n",
    "if isinstance(Y_synth[0], str):\n",
    "    encode(Y_synth)\n",
    "\n",
    "checkarr = X_synth.iloc[1, :]\n",
    "for i, value in checkarr.iteritems():\n",
    "    if isinstance(value, str):\n",
    "        X_synth[i] = X_synth[i].astype(\"category\").cat.codes\n",
    "\n",
    "scaler2 = StandardScaler()\n",
    "X = scaler2.fit_transform(X)\n",
    "X_synth = scaler2.fit_transform(X_synth)"
   ]
  },
  {
   "cell_type": "code",
   "execution_count": 27,
   "metadata": {},
   "outputs": [
    {
     "name": "stdout",
     "output_type": "stream",
     "text": [
      "Epoch 1/10\n"
     ]
    },
    {
     "name": "stderr",
     "output_type": "stream",
     "text": [
      "2024-02-21 06:08:31.180114: W tensorflow/core/framework/op_kernel.cc:1807] OP_REQUIRES failed at cast_op.cc:121 : UNIMPLEMENTED: Cast string to float is not supported\n"
     ]
    },
    {
     "ename": "UnimplementedError",
     "evalue": "Graph execution error:\n\nDetected at node 'Cast_13' defined at (most recent call last):\n    File \"/opt/homebrew/anaconda3/envs/aml/lib/python3.10/runpy.py\", line 196, in _run_module_as_main\n      return _run_code(code, main_globals, None,\n    File \"/opt/homebrew/anaconda3/envs/aml/lib/python3.10/runpy.py\", line 86, in _run_code\n      exec(code, run_globals)\n    File \"/opt/homebrew/anaconda3/envs/aml/lib/python3.10/site-packages/ipykernel_launcher.py\", line 17, in <module>\n      app.launch_new_instance()\n    File \"/opt/homebrew/anaconda3/envs/aml/lib/python3.10/site-packages/traitlets/config/application.py\", line 992, in launch_instance\n      app.start()\n    File \"/opt/homebrew/anaconda3/envs/aml/lib/python3.10/site-packages/ipykernel/kernelapp.py\", line 712, in start\n      self.io_loop.start()\n    File \"/opt/homebrew/anaconda3/envs/aml/lib/python3.10/site-packages/tornado/platform/asyncio.py\", line 215, in start\n      self.asyncio_loop.run_forever()\n    File \"/opt/homebrew/anaconda3/envs/aml/lib/python3.10/asyncio/base_events.py\", line 603, in run_forever\n      self._run_once()\n    File \"/opt/homebrew/anaconda3/envs/aml/lib/python3.10/asyncio/base_events.py\", line 1909, in _run_once\n      handle._run()\n    File \"/opt/homebrew/anaconda3/envs/aml/lib/python3.10/asyncio/events.py\", line 80, in _run\n      self._context.run(self._callback, *self._args)\n    File \"/opt/homebrew/anaconda3/envs/aml/lib/python3.10/site-packages/ipykernel/kernelbase.py\", line 510, in dispatch_queue\n      await self.process_one()\n    File \"/opt/homebrew/anaconda3/envs/aml/lib/python3.10/site-packages/ipykernel/kernelbase.py\", line 499, in process_one\n      await dispatch(*args)\n    File \"/opt/homebrew/anaconda3/envs/aml/lib/python3.10/site-packages/ipykernel/kernelbase.py\", line 406, in dispatch_shell\n      await result\n    File \"/opt/homebrew/anaconda3/envs/aml/lib/python3.10/site-packages/ipykernel/kernelbase.py\", line 730, in execute_request\n      reply_content = await reply_content\n    File \"/opt/homebrew/anaconda3/envs/aml/lib/python3.10/site-packages/ipykernel/ipkernel.py\", line 383, in do_execute\n      res = shell.run_cell(\n    File \"/opt/homebrew/anaconda3/envs/aml/lib/python3.10/site-packages/ipykernel/zmqshell.py\", line 528, in run_cell\n      return super().run_cell(*args, **kwargs)\n    File \"/opt/homebrew/anaconda3/envs/aml/lib/python3.10/site-packages/IPython/core/interactiveshell.py\", line 3006, in run_cell\n      result = self._run_cell(\n    File \"/opt/homebrew/anaconda3/envs/aml/lib/python3.10/site-packages/IPython/core/interactiveshell.py\", line 3061, in _run_cell\n      result = runner(coro)\n    File \"/opt/homebrew/anaconda3/envs/aml/lib/python3.10/site-packages/IPython/core/async_helpers.py\", line 129, in _pseudo_sync_runner\n      coro.send(None)\n    File \"/opt/homebrew/anaconda3/envs/aml/lib/python3.10/site-packages/IPython/core/interactiveshell.py\", line 3266, in run_cell_async\n      has_raised = await self.run_ast_nodes(code_ast.body, cell_name,\n    File \"/opt/homebrew/anaconda3/envs/aml/lib/python3.10/site-packages/IPython/core/interactiveshell.py\", line 3445, in run_ast_nodes\n      if await self.run_code(code, result, async_=asy):\n    File \"/opt/homebrew/anaconda3/envs/aml/lib/python3.10/site-packages/IPython/core/interactiveshell.py\", line 3505, in run_code\n      exec(code_obj, self.user_global_ns, self.user_ns)\n    File \"/var/folders/6s/d0kj1bc14152_w6d8xd7q99h0000gn/T/ipykernel_98677/3468083815.py\", line 17, in <module>\n      history = model1.fit(x_train, y_train, epochs=10)\n    File \"/opt/homebrew/anaconda3/envs/aml/lib/python3.10/site-packages/keras/utils/traceback_utils.py\", line 65, in error_handler\n      return fn(*args, **kwargs)\n    File \"/opt/homebrew/anaconda3/envs/aml/lib/python3.10/site-packages/keras/engine/training.py\", line 1650, in fit\n      tmp_logs = self.train_function(iterator)\n    File \"/opt/homebrew/anaconda3/envs/aml/lib/python3.10/site-packages/keras/engine/training.py\", line 1249, in train_function\n      return step_function(self, iterator)\n    File \"/opt/homebrew/anaconda3/envs/aml/lib/python3.10/site-packages/keras/engine/training.py\", line 1233, in step_function\n      outputs = model.distribute_strategy.run(run_step, args=(data,))\n    File \"/opt/homebrew/anaconda3/envs/aml/lib/python3.10/site-packages/keras/engine/training.py\", line 1222, in run_step\n      outputs = model.train_step(data)\n    File \"/opt/homebrew/anaconda3/envs/aml/lib/python3.10/site-packages/keras/engine/training.py\", line 1028, in train_step\n      return self.compute_metrics(x, y, y_pred, sample_weight)\n    File \"/opt/homebrew/anaconda3/envs/aml/lib/python3.10/site-packages/keras/engine/training.py\", line 1122, in compute_metrics\n      self.compiled_metrics.update_state(y, y_pred, sample_weight)\n    File \"/opt/homebrew/anaconda3/envs/aml/lib/python3.10/site-packages/keras/engine/compile_utils.py\", line 605, in update_state\n      metric_obj.update_state(y_t, y_p, sample_weight=mask)\n    File \"/opt/homebrew/anaconda3/envs/aml/lib/python3.10/site-packages/keras/utils/metrics_utils.py\", line 77, in decorated\n      update_op = update_state_fn(*args, **kwargs)\n    File \"/opt/homebrew/anaconda3/envs/aml/lib/python3.10/site-packages/keras/metrics/base_metric.py\", line 140, in update_state_fn\n      return ag_update_state(*args, **kwargs)\n    File \"/opt/homebrew/anaconda3/envs/aml/lib/python3.10/site-packages/keras/metrics/base_metric.py\", line 676, in update_state\n      y_true = tf.cast(y_true, self._dtype)\nNode: 'Cast_13'\nCast string to float is not supported\n\t [[{{node Cast_13}}]] [Op:__inference_train_function_3927]",
     "output_type": "error",
     "traceback": [
      "\u001b[0;31m---------------------------------------------------------------------------\u001b[0m",
      "\u001b[0;31mUnimplementedError\u001b[0m                        Traceback (most recent call last)",
      "Cell \u001b[0;32mIn[27], line 17\u001b[0m\n\u001b[1;32m      3\u001b[0m model1 \u001b[38;5;241m=\u001b[39m keras\u001b[38;5;241m.\u001b[39mSequential(\n\u001b[1;32m      4\u001b[0m     [\n\u001b[1;32m      5\u001b[0m         keras\u001b[38;5;241m.\u001b[39mlayers\u001b[38;5;241m.\u001b[39mFlatten(input_shape\u001b[38;5;241m=\u001b[39mx_train[\u001b[38;5;241m0\u001b[39m]\u001b[38;5;241m.\u001b[39mshape),\n\u001b[0;32m   (...)\u001b[0m\n\u001b[1;32m      8\u001b[0m     ]\n\u001b[1;32m      9\u001b[0m )\n\u001b[1;32m     11\u001b[0m model1\u001b[38;5;241m.\u001b[39mcompile(\n\u001b[1;32m     12\u001b[0m     optimizer\u001b[38;5;241m=\u001b[39m\u001b[38;5;124m\"\u001b[39m\u001b[38;5;124madam\u001b[39m\u001b[38;5;124m\"\u001b[39m,\n\u001b[1;32m     13\u001b[0m     loss\u001b[38;5;241m=\u001b[39m\u001b[38;5;124m\"\u001b[39m\u001b[38;5;124msparse_categorical_crossentropy\u001b[39m\u001b[38;5;124m\"\u001b[39m,\n\u001b[1;32m     14\u001b[0m     metrics\u001b[38;5;241m=\u001b[39m[\u001b[38;5;124m\"\u001b[39m\u001b[38;5;124maccuracy\u001b[39m\u001b[38;5;124m\"\u001b[39m],\n\u001b[1;32m     15\u001b[0m )\n\u001b[0;32m---> 17\u001b[0m history \u001b[38;5;241m=\u001b[39m \u001b[43mmodel1\u001b[49m\u001b[38;5;241;43m.\u001b[39;49m\u001b[43mfit\u001b[49m\u001b[43m(\u001b[49m\u001b[43mx_train\u001b[49m\u001b[43m,\u001b[49m\u001b[43m \u001b[49m\u001b[43my_train\u001b[49m\u001b[43m,\u001b[49m\u001b[43m \u001b[49m\u001b[43mepochs\u001b[49m\u001b[38;5;241;43m=\u001b[39;49m\u001b[38;5;241;43m10\u001b[39;49m\u001b[43m)\u001b[49m\n",
      "File \u001b[0;32m/opt/homebrew/anaconda3/envs/aml/lib/python3.10/site-packages/keras/utils/traceback_utils.py:70\u001b[0m, in \u001b[0;36mfilter_traceback.<locals>.error_handler\u001b[0;34m(*args, **kwargs)\u001b[0m\n\u001b[1;32m     67\u001b[0m     filtered_tb \u001b[38;5;241m=\u001b[39m _process_traceback_frames(e\u001b[38;5;241m.\u001b[39m__traceback__)\n\u001b[1;32m     68\u001b[0m     \u001b[38;5;66;03m# To get the full stack trace, call:\u001b[39;00m\n\u001b[1;32m     69\u001b[0m     \u001b[38;5;66;03m# `tf.debugging.disable_traceback_filtering()`\u001b[39;00m\n\u001b[0;32m---> 70\u001b[0m     \u001b[38;5;28;01mraise\u001b[39;00m e\u001b[38;5;241m.\u001b[39mwith_traceback(filtered_tb) \u001b[38;5;28;01mfrom\u001b[39;00m \u001b[38;5;28;01mNone\u001b[39;00m\n\u001b[1;32m     71\u001b[0m \u001b[38;5;28;01mfinally\u001b[39;00m:\n\u001b[1;32m     72\u001b[0m     \u001b[38;5;28;01mdel\u001b[39;00m filtered_tb\n",
      "File \u001b[0;32m/opt/homebrew/anaconda3/envs/aml/lib/python3.10/site-packages/tensorflow/python/eager/execute.py:52\u001b[0m, in \u001b[0;36mquick_execute\u001b[0;34m(op_name, num_outputs, inputs, attrs, ctx, name)\u001b[0m\n\u001b[1;32m     50\u001b[0m \u001b[38;5;28;01mtry\u001b[39;00m:\n\u001b[1;32m     51\u001b[0m   ctx\u001b[38;5;241m.\u001b[39mensure_initialized()\n\u001b[0;32m---> 52\u001b[0m   tensors \u001b[38;5;241m=\u001b[39m pywrap_tfe\u001b[38;5;241m.\u001b[39mTFE_Py_Execute(ctx\u001b[38;5;241m.\u001b[39m_handle, device_name, op_name,\n\u001b[1;32m     53\u001b[0m                                       inputs, attrs, num_outputs)\n\u001b[1;32m     54\u001b[0m \u001b[38;5;28;01mexcept\u001b[39;00m core\u001b[38;5;241m.\u001b[39m_NotOkStatusException \u001b[38;5;28;01mas\u001b[39;00m e:\n\u001b[1;32m     55\u001b[0m   \u001b[38;5;28;01mif\u001b[39;00m name \u001b[38;5;129;01mis\u001b[39;00m \u001b[38;5;129;01mnot\u001b[39;00m \u001b[38;5;28;01mNone\u001b[39;00m:\n",
      "\u001b[0;31mUnimplementedError\u001b[0m: Graph execution error:\n\nDetected at node 'Cast_13' defined at (most recent call last):\n    File \"/opt/homebrew/anaconda3/envs/aml/lib/python3.10/runpy.py\", line 196, in _run_module_as_main\n      return _run_code(code, main_globals, None,\n    File \"/opt/homebrew/anaconda3/envs/aml/lib/python3.10/runpy.py\", line 86, in _run_code\n      exec(code, run_globals)\n    File \"/opt/homebrew/anaconda3/envs/aml/lib/python3.10/site-packages/ipykernel_launcher.py\", line 17, in <module>\n      app.launch_new_instance()\n    File \"/opt/homebrew/anaconda3/envs/aml/lib/python3.10/site-packages/traitlets/config/application.py\", line 992, in launch_instance\n      app.start()\n    File \"/opt/homebrew/anaconda3/envs/aml/lib/python3.10/site-packages/ipykernel/kernelapp.py\", line 712, in start\n      self.io_loop.start()\n    File \"/opt/homebrew/anaconda3/envs/aml/lib/python3.10/site-packages/tornado/platform/asyncio.py\", line 215, in start\n      self.asyncio_loop.run_forever()\n    File \"/opt/homebrew/anaconda3/envs/aml/lib/python3.10/asyncio/base_events.py\", line 603, in run_forever\n      self._run_once()\n    File \"/opt/homebrew/anaconda3/envs/aml/lib/python3.10/asyncio/base_events.py\", line 1909, in _run_once\n      handle._run()\n    File \"/opt/homebrew/anaconda3/envs/aml/lib/python3.10/asyncio/events.py\", line 80, in _run\n      self._context.run(self._callback, *self._args)\n    File \"/opt/homebrew/anaconda3/envs/aml/lib/python3.10/site-packages/ipykernel/kernelbase.py\", line 510, in dispatch_queue\n      await self.process_one()\n    File \"/opt/homebrew/anaconda3/envs/aml/lib/python3.10/site-packages/ipykernel/kernelbase.py\", line 499, in process_one\n      await dispatch(*args)\n    File \"/opt/homebrew/anaconda3/envs/aml/lib/python3.10/site-packages/ipykernel/kernelbase.py\", line 406, in dispatch_shell\n      await result\n    File \"/opt/homebrew/anaconda3/envs/aml/lib/python3.10/site-packages/ipykernel/kernelbase.py\", line 730, in execute_request\n      reply_content = await reply_content\n    File \"/opt/homebrew/anaconda3/envs/aml/lib/python3.10/site-packages/ipykernel/ipkernel.py\", line 383, in do_execute\n      res = shell.run_cell(\n    File \"/opt/homebrew/anaconda3/envs/aml/lib/python3.10/site-packages/ipykernel/zmqshell.py\", line 528, in run_cell\n      return super().run_cell(*args, **kwargs)\n    File \"/opt/homebrew/anaconda3/envs/aml/lib/python3.10/site-packages/IPython/core/interactiveshell.py\", line 3006, in run_cell\n      result = self._run_cell(\n    File \"/opt/homebrew/anaconda3/envs/aml/lib/python3.10/site-packages/IPython/core/interactiveshell.py\", line 3061, in _run_cell\n      result = runner(coro)\n    File \"/opt/homebrew/anaconda3/envs/aml/lib/python3.10/site-packages/IPython/core/async_helpers.py\", line 129, in _pseudo_sync_runner\n      coro.send(None)\n    File \"/opt/homebrew/anaconda3/envs/aml/lib/python3.10/site-packages/IPython/core/interactiveshell.py\", line 3266, in run_cell_async\n      has_raised = await self.run_ast_nodes(code_ast.body, cell_name,\n    File \"/opt/homebrew/anaconda3/envs/aml/lib/python3.10/site-packages/IPython/core/interactiveshell.py\", line 3445, in run_ast_nodes\n      if await self.run_code(code, result, async_=asy):\n    File \"/opt/homebrew/anaconda3/envs/aml/lib/python3.10/site-packages/IPython/core/interactiveshell.py\", line 3505, in run_code\n      exec(code_obj, self.user_global_ns, self.user_ns)\n    File \"/var/folders/6s/d0kj1bc14152_w6d8xd7q99h0000gn/T/ipykernel_98677/3468083815.py\", line 17, in <module>\n      history = model1.fit(x_train, y_train, epochs=10)\n    File \"/opt/homebrew/anaconda3/envs/aml/lib/python3.10/site-packages/keras/utils/traceback_utils.py\", line 65, in error_handler\n      return fn(*args, **kwargs)\n    File \"/opt/homebrew/anaconda3/envs/aml/lib/python3.10/site-packages/keras/engine/training.py\", line 1650, in fit\n      tmp_logs = self.train_function(iterator)\n    File \"/opt/homebrew/anaconda3/envs/aml/lib/python3.10/site-packages/keras/engine/training.py\", line 1249, in train_function\n      return step_function(self, iterator)\n    File \"/opt/homebrew/anaconda3/envs/aml/lib/python3.10/site-packages/keras/engine/training.py\", line 1233, in step_function\n      outputs = model.distribute_strategy.run(run_step, args=(data,))\n    File \"/opt/homebrew/anaconda3/envs/aml/lib/python3.10/site-packages/keras/engine/training.py\", line 1222, in run_step\n      outputs = model.train_step(data)\n    File \"/opt/homebrew/anaconda3/envs/aml/lib/python3.10/site-packages/keras/engine/training.py\", line 1028, in train_step\n      return self.compute_metrics(x, y, y_pred, sample_weight)\n    File \"/opt/homebrew/anaconda3/envs/aml/lib/python3.10/site-packages/keras/engine/training.py\", line 1122, in compute_metrics\n      self.compiled_metrics.update_state(y, y_pred, sample_weight)\n    File \"/opt/homebrew/anaconda3/envs/aml/lib/python3.10/site-packages/keras/engine/compile_utils.py\", line 605, in update_state\n      metric_obj.update_state(y_t, y_p, sample_weight=mask)\n    File \"/opt/homebrew/anaconda3/envs/aml/lib/python3.10/site-packages/keras/utils/metrics_utils.py\", line 77, in decorated\n      update_op = update_state_fn(*args, **kwargs)\n    File \"/opt/homebrew/anaconda3/envs/aml/lib/python3.10/site-packages/keras/metrics/base_metric.py\", line 140, in update_state_fn\n      return ag_update_state(*args, **kwargs)\n    File \"/opt/homebrew/anaconda3/envs/aml/lib/python3.10/site-packages/keras/metrics/base_metric.py\", line 676, in update_state\n      y_true = tf.cast(y_true, self._dtype)\nNode: 'Cast_13'\nCast string to float is not supported\n\t [[{{node Cast_13}}]] [Op:__inference_train_function_3927]"
     ]
    }
   ],
   "source": [
    "tf.random.set_seed(3)\n",
    "\n",
    "model1 = keras.Sequential(\n",
    "    [\n",
    "        keras.layers.Flatten(input_shape=x_train[0].shape),\n",
    "        keras.layers.Dense(20, activation=\"relu\"),\n",
    "        keras.layers.Dense(2, activation=\"sigmoid\"),\n",
    "    ]\n",
    ")\n",
    "\n",
    "model1.compile(\n",
    "    optimizer=\"adam\",\n",
    "    loss=\"sparse_categorical_crossentropy\",\n",
    "    metrics=[\"accuracy\"],\n",
    ")\n",
    "\n",
    "history = model1.fit(x_train, y_train, epochs=10)"
   ]
  },
  {
   "cell_type": "code",
   "execution_count": 182,
   "metadata": {},
   "outputs": [
    {
     "data": {
      "text/plain": [
       "(30,)"
      ]
     },
     "execution_count": 182,
     "metadata": {},
     "output_type": "execute_result"
    }
   ],
   "source": [
    "tf.random.set_seed(3)\n",
    "from tensorflow import keras\n",
    "\n",
    "X[0].shape"
   ]
  },
  {
   "cell_type": "code",
   "execution_count": 183,
   "metadata": {},
   "outputs": [],
   "source": [
    "model = keras.Sequential(\n",
    "    [\n",
    "        keras.layers.Flatten(input_shape=X[0].shape),\n",
    "        keras.layers.Dense(20, activation=\"relu\"),\n",
    "        keras.layers.Dense(2, activation=\"sigmoid\"),\n",
    "    ]\n",
    ")"
   ]
  },
  {
   "cell_type": "code",
   "execution_count": 184,
   "metadata": {},
   "outputs": [],
   "source": [
    "model.compile(\n",
    "    optimizer=\"adam\", loss=\"sparse_categorical_crossentropy\", metrics=[\"accuracy\"]\n",
    ")"
   ]
  },
  {
   "cell_type": "code",
   "execution_count": 185,
   "metadata": {},
   "outputs": [
    {
     "name": "stdout",
     "output_type": "stream",
     "text": [
      "Epoch 1/10\n",
      "18/18 [==============================] - 1s 2ms/step - loss: 0.8767 - accuracy: 0.4429\n",
      "Epoch 2/10\n",
      "18/18 [==============================] - 0s 2ms/step - loss: 0.4663 - accuracy: 0.8084\n",
      "Epoch 3/10\n",
      "18/18 [==============================] - 0s 2ms/step - loss: 0.3101 - accuracy: 0.9227\n",
      "Epoch 4/10\n",
      "18/18 [==============================] - 0s 2ms/step - loss: 0.2429 - accuracy: 0.9385\n",
      "Epoch 5/10\n",
      "18/18 [==============================] - 0s 2ms/step - loss: 0.2041 - accuracy: 0.9455\n",
      "Epoch 6/10\n",
      "18/18 [==============================] - 0s 2ms/step - loss: 0.1781 - accuracy: 0.9525\n",
      "Epoch 7/10\n",
      "18/18 [==============================] - 0s 2ms/step - loss: 0.1592 - accuracy: 0.9578\n",
      "Epoch 8/10\n",
      "18/18 [==============================] - 0s 2ms/step - loss: 0.1446 - accuracy: 0.9578\n",
      "Epoch 9/10\n",
      "18/18 [==============================] - 0s 2ms/step - loss: 0.1328 - accuracy: 0.9649\n",
      "Epoch 10/10\n",
      "18/18 [==============================] - 0s 2ms/step - loss: 0.1230 - accuracy: 0.9649\n",
      "Epoch 1/50\n",
      "18/18 [==============================] - 0s 2ms/step - loss: 0.8539 - accuracy: 0.5800\n",
      "Epoch 2/50\n",
      "18/18 [==============================] - 0s 5ms/step - loss: 0.7681 - accuracy: 0.6239\n",
      "Epoch 3/50\n",
      "18/18 [==============================] - 0s 2ms/step - loss: 0.7050 - accuracy: 0.6626\n",
      "Epoch 4/50\n",
      "18/18 [==============================] - 0s 1ms/step - loss: 0.6700 - accuracy: 0.6784\n",
      "Epoch 5/50\n",
      "18/18 [==============================] - 0s 1ms/step - loss: 0.6431 - accuracy: 0.6889\n",
      "Epoch 6/50\n",
      "18/18 [==============================] - 0s 2ms/step - loss: 0.6223 - accuracy: 0.6889\n",
      "Epoch 7/50\n",
      "18/18 [==============================] - 0s 2ms/step - loss: 0.6063 - accuracy: 0.6942\n",
      "Epoch 8/50\n",
      "18/18 [==============================] - 0s 2ms/step - loss: 0.5916 - accuracy: 0.7118\n",
      "Epoch 9/50\n",
      "18/18 [==============================] - 0s 2ms/step - loss: 0.5806 - accuracy: 0.7170\n",
      "Epoch 10/50\n",
      "18/18 [==============================] - 0s 2ms/step - loss: 0.5705 - accuracy: 0.7241\n",
      "Epoch 11/50\n",
      "18/18 [==============================] - 0s 1ms/step - loss: 0.5620 - accuracy: 0.7293\n",
      "Epoch 12/50\n",
      "18/18 [==============================] - 0s 1ms/step - loss: 0.5538 - accuracy: 0.7311\n",
      "Epoch 13/50\n",
      "18/18 [==============================] - 0s 1ms/step - loss: 0.5468 - accuracy: 0.7364\n",
      "Epoch 14/50\n",
      "18/18 [==============================] - 0s 2ms/step - loss: 0.5405 - accuracy: 0.7329\n",
      "Epoch 15/50\n",
      "18/18 [==============================] - 0s 1ms/step - loss: 0.5347 - accuracy: 0.7329\n",
      "Epoch 16/50\n",
      "18/18 [==============================] - 0s 2ms/step - loss: 0.5300 - accuracy: 0.7329\n",
      "Epoch 17/50\n",
      "18/18 [==============================] - 0s 2ms/step - loss: 0.5245 - accuracy: 0.7346\n",
      "Epoch 18/50\n",
      "18/18 [==============================] - 0s 2ms/step - loss: 0.5196 - accuracy: 0.7329\n",
      "Epoch 19/50\n",
      "18/18 [==============================] - 0s 2ms/step - loss: 0.5154 - accuracy: 0.7364\n",
      "Epoch 20/50\n",
      "18/18 [==============================] - 0s 2ms/step - loss: 0.5122 - accuracy: 0.7417\n",
      "Epoch 21/50\n",
      "18/18 [==============================] - 0s 1ms/step - loss: 0.5074 - accuracy: 0.7417\n",
      "Epoch 22/50\n",
      "18/18 [==============================] - 0s 2ms/step - loss: 0.5036 - accuracy: 0.7381\n",
      "Epoch 23/50\n",
      "18/18 [==============================] - 0s 1ms/step - loss: 0.4997 - accuracy: 0.7469\n",
      "Epoch 24/50\n",
      "18/18 [==============================] - 0s 2ms/step - loss: 0.4961 - accuracy: 0.7504\n",
      "Epoch 25/50\n",
      "18/18 [==============================] - 0s 1ms/step - loss: 0.4926 - accuracy: 0.7575\n",
      "Epoch 26/50\n",
      "18/18 [==============================] - 0s 1ms/step - loss: 0.4887 - accuracy: 0.7627\n",
      "Epoch 27/50\n",
      "18/18 [==============================] - 0s 2ms/step - loss: 0.4853 - accuracy: 0.7663\n",
      "Epoch 28/50\n",
      "18/18 [==============================] - 0s 1ms/step - loss: 0.4819 - accuracy: 0.7715\n",
      "Epoch 29/50\n",
      "18/18 [==============================] - 0s 2ms/step - loss: 0.4783 - accuracy: 0.7698\n",
      "Epoch 30/50\n",
      "18/18 [==============================] - 0s 3ms/step - loss: 0.4749 - accuracy: 0.7715\n",
      "Epoch 31/50\n",
      "18/18 [==============================] - 0s 2ms/step - loss: 0.4708 - accuracy: 0.7750\n",
      "Epoch 32/50\n",
      "18/18 [==============================] - 0s 2ms/step - loss: 0.4675 - accuracy: 0.7786\n",
      "Epoch 33/50\n",
      "18/18 [==============================] - 0s 2ms/step - loss: 0.4639 - accuracy: 0.7838\n",
      "Epoch 34/50\n",
      "18/18 [==============================] - 0s 2ms/step - loss: 0.4606 - accuracy: 0.7786\n",
      "Epoch 35/50\n",
      "18/18 [==============================] - 0s 2ms/step - loss: 0.4572 - accuracy: 0.7803\n",
      "Epoch 36/50\n",
      "18/18 [==============================] - 0s 1ms/step - loss: 0.4539 - accuracy: 0.7838\n",
      "Epoch 37/50\n",
      "18/18 [==============================] - 0s 2ms/step - loss: 0.4504 - accuracy: 0.7856\n",
      "Epoch 38/50\n",
      "18/18 [==============================] - 0s 1ms/step - loss: 0.4470 - accuracy: 0.7873\n",
      "Epoch 39/50\n",
      "18/18 [==============================] - 0s 3ms/step - loss: 0.4437 - accuracy: 0.7891\n",
      "Epoch 40/50\n",
      "18/18 [==============================] - 0s 2ms/step - loss: 0.4410 - accuracy: 0.7961\n",
      "Epoch 41/50\n",
      "18/18 [==============================] - 0s 2ms/step - loss: 0.4372 - accuracy: 0.7944\n",
      "Epoch 42/50\n",
      "18/18 [==============================] - 0s 2ms/step - loss: 0.4350 - accuracy: 0.7909\n",
      "Epoch 43/50\n",
      "18/18 [==============================] - 0s 1ms/step - loss: 0.4303 - accuracy: 0.8049\n",
      "Epoch 44/50\n",
      "18/18 [==============================] - 0s 2ms/step - loss: 0.4276 - accuracy: 0.8172\n",
      "Epoch 45/50\n",
      "18/18 [==============================] - 0s 2ms/step - loss: 0.4243 - accuracy: 0.8137\n",
      "Epoch 46/50\n",
      "18/18 [==============================] - 0s 1ms/step - loss: 0.4220 - accuracy: 0.8155\n",
      "Epoch 47/50\n",
      "18/18 [==============================] - 0s 2ms/step - loss: 0.4174 - accuracy: 0.8207\n",
      "Epoch 48/50\n",
      "18/18 [==============================] - 0s 1ms/step - loss: 0.4147 - accuracy: 0.8225\n",
      "Epoch 49/50\n",
      "18/18 [==============================] - 0s 2ms/step - loss: 0.4118 - accuracy: 0.8225\n",
      "Epoch 50/50\n",
      "18/18 [==============================] - 0s 1ms/step - loss: 0.4089 - accuracy: 0.8243\n"
     ]
    }
   ],
   "source": [
    "history = model.fit(X, Y, epochs=10)\n",
    "history_synth = model.fit(X_synth, Y_synth, epochs=50)"
   ]
  },
  {
   "cell_type": "code",
   "execution_count": 190,
   "metadata": {},
   "outputs": [],
   "source": [
    "data_loss = history.history[\"accuracy\"][-1] - history_synth.history[\"accuracy\"][-1]"
   ]
  },
  {
   "cell_type": "code",
   "execution_count": 191,
   "metadata": {},
   "outputs": [
    {
     "data": {
      "text/plain": [
       "0.14059752225875854"
      ]
     },
     "execution_count": 191,
     "metadata": {},
     "output_type": "execute_result"
    }
   ],
   "source": [
    "data_loss"
   ]
  },
  {
   "cell_type": "code",
   "execution_count": null,
   "metadata": {},
   "outputs": [],
   "source": []
  }
 ],
 "metadata": {
  "kernelspec": {
   "display_name": "Python 3",
   "language": "python",
   "name": "python3"
  },
  "language_info": {
   "codemirror_mode": {
    "name": "ipython",
    "version": 3
   },
   "file_extension": ".py",
   "mimetype": "text/x-python",
   "name": "python",
   "nbconvert_exporter": "python",
   "pygments_lexer": "ipython3",
   "version": "3.10.11"
  }
 },
 "nbformat": 4,
 "nbformat_minor": 2
}
