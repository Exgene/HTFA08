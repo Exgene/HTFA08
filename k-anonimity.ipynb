{
 "cells": [
  {
   "cell_type": "code",
   "execution_count": 3,
   "metadata": {},
   "outputs": [
    {
     "data": {
      "text/plain": [
       "1"
      ]
     },
     "execution_count": 3,
     "metadata": {},
     "output_type": "execute_result"
    }
   ],
   "source": [
    "import pandas as pd\n",
    "from sklearn.datasets import load_iris\n",
    "from pycanon import anonymity, report\n",
    "QI = [\n",
    "\"sepal width (cm)\"\n",
    "]\n",
    "SA = [\"petal length (cm)\"]\n",
    "DATA = pd.DataFrame(load_iris().data,columns=load_iris().feature_names)\n",
    "k = anonymity.k_anonymity(DATA, QI)\n",
    "k\n",
    "# Print the anonymity report:\n",
    "# report.print_report(DATA, QI, SA)"
   ]
  },
  {
   "cell_type": "code",
   "execution_count": null,
   "metadata": {},
   "outputs": [],
   "source": []
  }
 ],
 "metadata": {
  "kernelspec": {
   "display_name": "Python 3",
   "language": "python",
   "name": "python3"
  },
  "language_info": {
   "codemirror_mode": {
    "name": "ipython",
    "version": 3
   },
   "file_extension": ".py",
   "mimetype": "text/x-python",
   "name": "python",
   "nbconvert_exporter": "python",
   "pygments_lexer": "ipython3",
   "version": "3.10.12"
  }
 },
 "nbformat": 4,
 "nbformat_minor": 2
}
